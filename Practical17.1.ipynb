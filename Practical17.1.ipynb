{
 "cells": [
  {
   "cell_type": "code",
   "execution_count": 1,
   "id": "44dc3b0d",
   "metadata": {},
   "outputs": [],
   "source": [
    "import pandas as pd\n",
    "import matplotlib.pyplot as plt\n",
    "from time import process_time\n",
    "from sklearn.model_selection import train_test_split\n",
    "from sklearn.neighbors import KNeighborsClassifier\n",
    "from sklearn import metrics\n",
    "from time import process_time\n",
    "from sklearn.linear_model import LogisticRegression\n",
    "from sklearn.metrics import accuracy_score\n",
    "from sklearn.svm import SVC\n",
    "from sklearn.tree import DecisionTreeClassifier\n",
    "from sklearn import preprocessing\n",
    "from sklearn.metrics.pairwise import polynomial_kernel, rbf_kernel"
   ]
  },
  {
   "cell_type": "code",
   "execution_count": 2,
   "id": "1cd65ef6",
   "metadata": {},
   "outputs": [],
   "source": [
    "df = pd.read_csv('bank-additional-full.csv')"
   ]
  },
  {
   "cell_type": "code",
   "execution_count": 3,
   "id": "2b41d6eb",
   "metadata": {},
   "outputs": [],
   "source": [
    "df = pd.read_csv('C:/Users/Owner/Downloads/bank-additional-full.csv', sep=';', decimal ='.', header =0, names = \n",
    "                 ['age', 'job', 'marital', 'education', 'default','housing','loan','contact','month',\n",
    "                 'day_of_week','duration','campaign','pdays','previous','poutcome','emp.var.rate','cons.price.idx',\n",
    "                 'cons.conf.idx','euribor3m','nr.employed','target'])"
   ]
  },
  {
   "cell_type": "code",
   "execution_count": 4,
   "id": "c82bfd3a",
   "metadata": {},
   "outputs": [
    {
     "data": {
      "text/html": [
       "<div>\n",
       "<style scoped>\n",
       "    .dataframe tbody tr th:only-of-type {\n",
       "        vertical-align: middle;\n",
       "    }\n",
       "\n",
       "    .dataframe tbody tr th {\n",
       "        vertical-align: top;\n",
       "    }\n",
       "\n",
       "    .dataframe thead th {\n",
       "        text-align: right;\n",
       "    }\n",
       "</style>\n",
       "<table border=\"1\" class=\"dataframe\">\n",
       "  <thead>\n",
       "    <tr style=\"text-align: right;\">\n",
       "      <th></th>\n",
       "      <th>age</th>\n",
       "      <th>job</th>\n",
       "      <th>marital</th>\n",
       "      <th>education</th>\n",
       "      <th>default</th>\n",
       "      <th>housing</th>\n",
       "      <th>loan</th>\n",
       "      <th>contact</th>\n",
       "      <th>month</th>\n",
       "      <th>day_of_week</th>\n",
       "      <th>...</th>\n",
       "      <th>campaign</th>\n",
       "      <th>pdays</th>\n",
       "      <th>previous</th>\n",
       "      <th>poutcome</th>\n",
       "      <th>emp.var.rate</th>\n",
       "      <th>cons.price.idx</th>\n",
       "      <th>cons.conf.idx</th>\n",
       "      <th>euribor3m</th>\n",
       "      <th>nr.employed</th>\n",
       "      <th>target</th>\n",
       "    </tr>\n",
       "  </thead>\n",
       "  <tbody>\n",
       "    <tr>\n",
       "      <th>0</th>\n",
       "      <td>56</td>\n",
       "      <td>housemaid</td>\n",
       "      <td>married</td>\n",
       "      <td>basic.4y</td>\n",
       "      <td>no</td>\n",
       "      <td>no</td>\n",
       "      <td>no</td>\n",
       "      <td>telephone</td>\n",
       "      <td>may</td>\n",
       "      <td>mon</td>\n",
       "      <td>...</td>\n",
       "      <td>1</td>\n",
       "      <td>999</td>\n",
       "      <td>0</td>\n",
       "      <td>nonexistent</td>\n",
       "      <td>1.1</td>\n",
       "      <td>93.994</td>\n",
       "      <td>-36.4</td>\n",
       "      <td>4.857</td>\n",
       "      <td>5191.0</td>\n",
       "      <td>no</td>\n",
       "    </tr>\n",
       "    <tr>\n",
       "      <th>1</th>\n",
       "      <td>57</td>\n",
       "      <td>services</td>\n",
       "      <td>married</td>\n",
       "      <td>high.school</td>\n",
       "      <td>unknown</td>\n",
       "      <td>no</td>\n",
       "      <td>no</td>\n",
       "      <td>telephone</td>\n",
       "      <td>may</td>\n",
       "      <td>mon</td>\n",
       "      <td>...</td>\n",
       "      <td>1</td>\n",
       "      <td>999</td>\n",
       "      <td>0</td>\n",
       "      <td>nonexistent</td>\n",
       "      <td>1.1</td>\n",
       "      <td>93.994</td>\n",
       "      <td>-36.4</td>\n",
       "      <td>4.857</td>\n",
       "      <td>5191.0</td>\n",
       "      <td>no</td>\n",
       "    </tr>\n",
       "    <tr>\n",
       "      <th>2</th>\n",
       "      <td>37</td>\n",
       "      <td>services</td>\n",
       "      <td>married</td>\n",
       "      <td>high.school</td>\n",
       "      <td>no</td>\n",
       "      <td>yes</td>\n",
       "      <td>no</td>\n",
       "      <td>telephone</td>\n",
       "      <td>may</td>\n",
       "      <td>mon</td>\n",
       "      <td>...</td>\n",
       "      <td>1</td>\n",
       "      <td>999</td>\n",
       "      <td>0</td>\n",
       "      <td>nonexistent</td>\n",
       "      <td>1.1</td>\n",
       "      <td>93.994</td>\n",
       "      <td>-36.4</td>\n",
       "      <td>4.857</td>\n",
       "      <td>5191.0</td>\n",
       "      <td>no</td>\n",
       "    </tr>\n",
       "    <tr>\n",
       "      <th>3</th>\n",
       "      <td>40</td>\n",
       "      <td>admin.</td>\n",
       "      <td>married</td>\n",
       "      <td>basic.6y</td>\n",
       "      <td>no</td>\n",
       "      <td>no</td>\n",
       "      <td>no</td>\n",
       "      <td>telephone</td>\n",
       "      <td>may</td>\n",
       "      <td>mon</td>\n",
       "      <td>...</td>\n",
       "      <td>1</td>\n",
       "      <td>999</td>\n",
       "      <td>0</td>\n",
       "      <td>nonexistent</td>\n",
       "      <td>1.1</td>\n",
       "      <td>93.994</td>\n",
       "      <td>-36.4</td>\n",
       "      <td>4.857</td>\n",
       "      <td>5191.0</td>\n",
       "      <td>no</td>\n",
       "    </tr>\n",
       "    <tr>\n",
       "      <th>4</th>\n",
       "      <td>56</td>\n",
       "      <td>services</td>\n",
       "      <td>married</td>\n",
       "      <td>high.school</td>\n",
       "      <td>no</td>\n",
       "      <td>no</td>\n",
       "      <td>yes</td>\n",
       "      <td>telephone</td>\n",
       "      <td>may</td>\n",
       "      <td>mon</td>\n",
       "      <td>...</td>\n",
       "      <td>1</td>\n",
       "      <td>999</td>\n",
       "      <td>0</td>\n",
       "      <td>nonexistent</td>\n",
       "      <td>1.1</td>\n",
       "      <td>93.994</td>\n",
       "      <td>-36.4</td>\n",
       "      <td>4.857</td>\n",
       "      <td>5191.0</td>\n",
       "      <td>no</td>\n",
       "    </tr>\n",
       "  </tbody>\n",
       "</table>\n",
       "<p>5 rows × 21 columns</p>\n",
       "</div>"
      ],
      "text/plain": [
       "   age        job  marital    education  default housing loan    contact  \\\n",
       "0   56  housemaid  married     basic.4y       no      no   no  telephone   \n",
       "1   57   services  married  high.school  unknown      no   no  telephone   \n",
       "2   37   services  married  high.school       no     yes   no  telephone   \n",
       "3   40     admin.  married     basic.6y       no      no   no  telephone   \n",
       "4   56   services  married  high.school       no      no  yes  telephone   \n",
       "\n",
       "  month day_of_week  ...  campaign  pdays  previous     poutcome emp.var.rate  \\\n",
       "0   may         mon  ...         1    999         0  nonexistent          1.1   \n",
       "1   may         mon  ...         1    999         0  nonexistent          1.1   \n",
       "2   may         mon  ...         1    999         0  nonexistent          1.1   \n",
       "3   may         mon  ...         1    999         0  nonexistent          1.1   \n",
       "4   may         mon  ...         1    999         0  nonexistent          1.1   \n",
       "\n",
       "   cons.price.idx  cons.conf.idx  euribor3m  nr.employed  target  \n",
       "0          93.994          -36.4      4.857       5191.0      no  \n",
       "1          93.994          -36.4      4.857       5191.0      no  \n",
       "2          93.994          -36.4      4.857       5191.0      no  \n",
       "3          93.994          -36.4      4.857       5191.0      no  \n",
       "4          93.994          -36.4      4.857       5191.0      no  \n",
       "\n",
       "[5 rows x 21 columns]"
      ]
     },
     "execution_count": 4,
     "metadata": {},
     "output_type": "execute_result"
    }
   ],
   "source": [
    "df.head(5)"
   ]
  },
  {
   "cell_type": "code",
   "execution_count": 5,
   "id": "08dc330f",
   "metadata": {},
   "outputs": [
    {
     "name": "stdout",
     "output_type": "stream",
     "text": [
      "age                 int64\n",
      "job                object\n",
      "marital            object\n",
      "education          object\n",
      "default            object\n",
      "housing            object\n",
      "loan               object\n",
      "contact            object\n",
      "month              object\n",
      "day_of_week        object\n",
      "duration            int64\n",
      "campaign            int64\n",
      "pdays               int64\n",
      "previous            int64\n",
      "poutcome           object\n",
      "emp.var.rate      float64\n",
      "cons.price.idx    float64\n",
      "cons.conf.idx     float64\n",
      "euribor3m         float64\n",
      "nr.employed       float64\n",
      "target             object\n",
      "dtype: object\n"
     ]
    }
   ],
   "source": [
    "print (df.dtypes)"
   ]
  },
  {
   "cell_type": "code",
   "execution_count": 6,
   "id": "b6153da1",
   "metadata": {},
   "outputs": [
    {
     "name": "stdout",
     "output_type": "stream",
     "text": [
      "age               0\n",
      "job               0\n",
      "marital           0\n",
      "education         0\n",
      "default           0\n",
      "housing           0\n",
      "loan              0\n",
      "contact           0\n",
      "month             0\n",
      "day_of_week       0\n",
      "duration          0\n",
      "campaign          0\n",
      "pdays             0\n",
      "previous          0\n",
      "poutcome          0\n",
      "emp.var.rate      0\n",
      "cons.price.idx    0\n",
      "cons.conf.idx     0\n",
      "euribor3m         0\n",
      "nr.employed       0\n",
      "target            0\n",
      "dtype: int64\n"
     ]
    }
   ],
   "source": [
    "print (df.isnull().sum())"
   ]
  },
  {
   "cell_type": "code",
   "execution_count": 7,
   "id": "4400b304",
   "metadata": {},
   "outputs": [
    {
     "name": "stdout",
     "output_type": "stream",
     "text": [
      "target\n",
      "no     36548\n",
      "yes     4640\n",
      "Name: count, dtype: int64\n"
     ]
    }
   ],
   "source": [
    "#print (df ['age'].value_counts())\n",
    "#print (df ['job'].value_counts())\n",
    "#print (df ['marital'].value_counts())\n",
    "#print (df ['education'].value_counts())\n",
    "#print (df ['default'].value_counts())\n",
    "#print (df ['housing'].value_counts())\n",
    "#print (df ['loan'].value_counts())\n",
    "#print (df ['contact'].value_counts())\n",
    "#print (df ['month'].value_counts())\n",
    "#print (df ['day_of_week'].value_counts())\n",
    "#print (df ['duration'].value_counts())\n",
    "# print (df ['campaign'].value_counts())\n",
    "# print (df ['pdays'].value_counts())\n",
    "# print (df ['previous'].value_counts())\n",
    "# print (df ['poutcome'].value_counts())\n",
    "# print (df ['emp.var.rate'].value_counts())\n",
    "# print (df ['cons.price.idx'].value_counts())\n",
    "# print (df ['cons.conf.idx'].value_counts())\n",
    "# print (df ['euribor3m'].value_counts())\n",
    "# print (df ['nr.employed'] .value_counts())\n",
    "print (df ['target'].value_counts())"
   ]
  },
  {
   "cell_type": "code",
   "execution_count": 4,
   "id": "8012d7c6",
   "metadata": {},
   "outputs": [],
   "source": [
    "le = preprocessing.LabelEncoder()\n",
    "df['job'] = le.fit_transform(df['job'].astype('str'))\n",
    "df['marital'] = le.fit_transform(df['marital'].astype('str'))\n",
    "df['education'] = le.fit_transform(df['education'].astype('str'))\n",
    "df['default'] = le.fit_transform(df['default'].astype('str'))\n",
    "df['housing'] = le.fit_transform(df['housing'].astype('str'))\n",
    "df['loan'] = le.fit_transform(df['loan'].astype('str'))\n",
    "df['contact'] = le.fit_transform(df['contact'].astype('str'))\n",
    "df['month'] = le.fit_transform(df['month'].astype('str'))\n",
    "df['day_of_week'] = le.fit_transform(df['day_of_week'].astype('str'))\n",
    "df['poutcome'] = le.fit_transform(df['poutcome'].astype('str'))\n",
    "df['target'] = le.fit_transform(df['target'].astype('str'))"
   ]
  },
  {
   "cell_type": "code",
   "execution_count": 11,
   "id": "951cb9e4",
   "metadata": {},
   "outputs": [
    {
     "data": {
      "text/html": [
       "<div>\n",
       "<style scoped>\n",
       "    .dataframe tbody tr th:only-of-type {\n",
       "        vertical-align: middle;\n",
       "    }\n",
       "\n",
       "    .dataframe tbody tr th {\n",
       "        vertical-align: top;\n",
       "    }\n",
       "\n",
       "    .dataframe thead th {\n",
       "        text-align: right;\n",
       "    }\n",
       "</style>\n",
       "<table border=\"1\" class=\"dataframe\">\n",
       "  <thead>\n",
       "    <tr style=\"text-align: right;\">\n",
       "      <th></th>\n",
       "      <th>age</th>\n",
       "      <th>job</th>\n",
       "      <th>marital</th>\n",
       "      <th>education</th>\n",
       "      <th>default</th>\n",
       "      <th>housing</th>\n",
       "      <th>loan</th>\n",
       "      <th>contact</th>\n",
       "      <th>month</th>\n",
       "      <th>day_of_week</th>\n",
       "      <th>...</th>\n",
       "      <th>campaign</th>\n",
       "      <th>pdays</th>\n",
       "      <th>previous</th>\n",
       "      <th>poutcome</th>\n",
       "      <th>emp.var.rate</th>\n",
       "      <th>cons.price.idx</th>\n",
       "      <th>cons.conf.idx</th>\n",
       "      <th>euribor3m</th>\n",
       "      <th>nr.employed</th>\n",
       "      <th>target</th>\n",
       "    </tr>\n",
       "  </thead>\n",
       "  <tbody>\n",
       "    <tr>\n",
       "      <th>0</th>\n",
       "      <td>56</td>\n",
       "      <td>3</td>\n",
       "      <td>1</td>\n",
       "      <td>0</td>\n",
       "      <td>0</td>\n",
       "      <td>0</td>\n",
       "      <td>0</td>\n",
       "      <td>1</td>\n",
       "      <td>6</td>\n",
       "      <td>1</td>\n",
       "      <td>...</td>\n",
       "      <td>1</td>\n",
       "      <td>999</td>\n",
       "      <td>0</td>\n",
       "      <td>1</td>\n",
       "      <td>1.1</td>\n",
       "      <td>93.994</td>\n",
       "      <td>-36.4</td>\n",
       "      <td>4.857</td>\n",
       "      <td>5191.0</td>\n",
       "      <td>0</td>\n",
       "    </tr>\n",
       "    <tr>\n",
       "      <th>1</th>\n",
       "      <td>57</td>\n",
       "      <td>7</td>\n",
       "      <td>1</td>\n",
       "      <td>3</td>\n",
       "      <td>1</td>\n",
       "      <td>0</td>\n",
       "      <td>0</td>\n",
       "      <td>1</td>\n",
       "      <td>6</td>\n",
       "      <td>1</td>\n",
       "      <td>...</td>\n",
       "      <td>1</td>\n",
       "      <td>999</td>\n",
       "      <td>0</td>\n",
       "      <td>1</td>\n",
       "      <td>1.1</td>\n",
       "      <td>93.994</td>\n",
       "      <td>-36.4</td>\n",
       "      <td>4.857</td>\n",
       "      <td>5191.0</td>\n",
       "      <td>0</td>\n",
       "    </tr>\n",
       "    <tr>\n",
       "      <th>2</th>\n",
       "      <td>37</td>\n",
       "      <td>7</td>\n",
       "      <td>1</td>\n",
       "      <td>3</td>\n",
       "      <td>0</td>\n",
       "      <td>2</td>\n",
       "      <td>0</td>\n",
       "      <td>1</td>\n",
       "      <td>6</td>\n",
       "      <td>1</td>\n",
       "      <td>...</td>\n",
       "      <td>1</td>\n",
       "      <td>999</td>\n",
       "      <td>0</td>\n",
       "      <td>1</td>\n",
       "      <td>1.1</td>\n",
       "      <td>93.994</td>\n",
       "      <td>-36.4</td>\n",
       "      <td>4.857</td>\n",
       "      <td>5191.0</td>\n",
       "      <td>0</td>\n",
       "    </tr>\n",
       "    <tr>\n",
       "      <th>3</th>\n",
       "      <td>40</td>\n",
       "      <td>0</td>\n",
       "      <td>1</td>\n",
       "      <td>1</td>\n",
       "      <td>0</td>\n",
       "      <td>0</td>\n",
       "      <td>0</td>\n",
       "      <td>1</td>\n",
       "      <td>6</td>\n",
       "      <td>1</td>\n",
       "      <td>...</td>\n",
       "      <td>1</td>\n",
       "      <td>999</td>\n",
       "      <td>0</td>\n",
       "      <td>1</td>\n",
       "      <td>1.1</td>\n",
       "      <td>93.994</td>\n",
       "      <td>-36.4</td>\n",
       "      <td>4.857</td>\n",
       "      <td>5191.0</td>\n",
       "      <td>0</td>\n",
       "    </tr>\n",
       "    <tr>\n",
       "      <th>4</th>\n",
       "      <td>56</td>\n",
       "      <td>7</td>\n",
       "      <td>1</td>\n",
       "      <td>3</td>\n",
       "      <td>0</td>\n",
       "      <td>0</td>\n",
       "      <td>2</td>\n",
       "      <td>1</td>\n",
       "      <td>6</td>\n",
       "      <td>1</td>\n",
       "      <td>...</td>\n",
       "      <td>1</td>\n",
       "      <td>999</td>\n",
       "      <td>0</td>\n",
       "      <td>1</td>\n",
       "      <td>1.1</td>\n",
       "      <td>93.994</td>\n",
       "      <td>-36.4</td>\n",
       "      <td>4.857</td>\n",
       "      <td>5191.0</td>\n",
       "      <td>0</td>\n",
       "    </tr>\n",
       "  </tbody>\n",
       "</table>\n",
       "<p>5 rows × 21 columns</p>\n",
       "</div>"
      ],
      "text/plain": [
       "   age  job  marital  education  default  housing  loan  contact  month  \\\n",
       "0   56    3        1          0        0        0     0        1      6   \n",
       "1   57    7        1          3        1        0     0        1      6   \n",
       "2   37    7        1          3        0        2     0        1      6   \n",
       "3   40    0        1          1        0        0     0        1      6   \n",
       "4   56    7        1          3        0        0     2        1      6   \n",
       "\n",
       "   day_of_week  ...  campaign  pdays  previous  poutcome  emp.var.rate  \\\n",
       "0            1  ...         1    999         0         1           1.1   \n",
       "1            1  ...         1    999         0         1           1.1   \n",
       "2            1  ...         1    999         0         1           1.1   \n",
       "3            1  ...         1    999         0         1           1.1   \n",
       "4            1  ...         1    999         0         1           1.1   \n",
       "\n",
       "   cons.price.idx  cons.conf.idx  euribor3m  nr.employed  target  \n",
       "0          93.994          -36.4      4.857       5191.0       0  \n",
       "1          93.994          -36.4      4.857       5191.0       0  \n",
       "2          93.994          -36.4      4.857       5191.0       0  \n",
       "3          93.994          -36.4      4.857       5191.0       0  \n",
       "4          93.994          -36.4      4.857       5191.0       0  \n",
       "\n",
       "[5 rows x 21 columns]"
      ]
     },
     "execution_count": 11,
     "metadata": {},
     "output_type": "execute_result"
    }
   ],
   "source": [
    "df.head()"
   ]
  },
  {
   "cell_type": "code",
   "execution_count": 5,
   "id": "4c0e27d7",
   "metadata": {},
   "outputs": [],
   "source": [
    "X = df.drop(['target'], axis=1)\n",
    "y = df['target']"
   ]
  },
  {
   "cell_type": "code",
   "execution_count": 6,
   "id": "edddf82e",
   "metadata": {},
   "outputs": [],
   "source": [
    "X_train, X_test, y_train, y_test = train_test_split(X, y, test_size=0.5, random_state=42)"
   ]
  },
  {
   "cell_type": "code",
   "execution_count": 7,
   "id": "335e72ab",
   "metadata": {},
   "outputs": [
    {
     "name": "stderr",
     "output_type": "stream",
     "text": [
      "C:\\Users\\Owner\\anaconda3\\Lib\\site-packages\\sklearn\\base.py:464: UserWarning: X does not have valid feature names, but KNeighborsClassifier was fitted with feature names\n",
      "  warnings.warn(\n",
      "C:\\Users\\Owner\\anaconda3\\Lib\\site-packages\\sklearn\\base.py:464: UserWarning: X does not have valid feature names, but KNeighborsClassifier was fitted with feature names\n",
      "  warnings.warn(\n"
     ]
    },
    {
     "name": "stdout",
     "output_type": "stream",
     "text": [
      "Below when i is :  1\n",
      "Train score knn:  1.0\n",
      "Test score knn:  0.8864232300670098\n",
      "Avg. time is:  0.0\n"
     ]
    },
    {
     "name": "stderr",
     "output_type": "stream",
     "text": [
      "C:\\Users\\Owner\\anaconda3\\Lib\\site-packages\\sklearn\\base.py:464: UserWarning: X does not have valid feature names, but KNeighborsClassifier was fitted with feature names\n",
      "  warnings.warn(\n",
      "C:\\Users\\Owner\\anaconda3\\Lib\\site-packages\\sklearn\\base.py:464: UserWarning: X does not have valid feature names, but KNeighborsClassifier was fitted with feature names\n",
      "  warnings.warn(\n"
     ]
    },
    {
     "name": "stdout",
     "output_type": "stream",
     "text": [
      "Below when i is :  2\n",
      "Train score knn:  0.9411479071574245\n",
      "Test score knn:  0.8988540351558706\n",
      "Avg. time is:  0.0\n"
     ]
    },
    {
     "name": "stderr",
     "output_type": "stream",
     "text": [
      "C:\\Users\\Owner\\anaconda3\\Lib\\site-packages\\sklearn\\base.py:464: UserWarning: X does not have valid feature names, but KNeighborsClassifier was fitted with feature names\n",
      "  warnings.warn(\n",
      "C:\\Users\\Owner\\anaconda3\\Lib\\site-packages\\sklearn\\base.py:464: UserWarning: X does not have valid feature names, but KNeighborsClassifier was fitted with feature names\n",
      "  warnings.warn(\n"
     ]
    },
    {
     "name": "stdout",
     "output_type": "stream",
     "text": [
      "Below when i is :  3\n",
      "Train score knn:  0.9427988734582888\n",
      "Test score knn:  0.8984170146644653\n",
      "Avg. time is:  0.0\n"
     ]
    },
    {
     "name": "stderr",
     "output_type": "stream",
     "text": [
      "C:\\Users\\Owner\\anaconda3\\Lib\\site-packages\\sklearn\\base.py:464: UserWarning: X does not have valid feature names, but KNeighborsClassifier was fitted with feature names\n",
      "  warnings.warn(\n",
      "C:\\Users\\Owner\\anaconda3\\Lib\\site-packages\\sklearn\\base.py:464: UserWarning: X does not have valid feature names, but KNeighborsClassifier was fitted with feature names\n",
      "  warnings.warn(\n"
     ]
    },
    {
     "name": "stdout",
     "output_type": "stream",
     "text": [
      "Below when i is :  4\n",
      "Train score knn:  0.9309993201903467\n",
      "Test score knn:  0.9037098183937069\n",
      "Avg. time is:  0.0\n"
     ]
    },
    {
     "name": "stderr",
     "output_type": "stream",
     "text": [
      "C:\\Users\\Owner\\anaconda3\\Lib\\site-packages\\sklearn\\base.py:464: UserWarning: X does not have valid feature names, but KNeighborsClassifier was fitted with feature names\n",
      "  warnings.warn(\n",
      "C:\\Users\\Owner\\anaconda3\\Lib\\site-packages\\sklearn\\base.py:464: UserWarning: X does not have valid feature names, but KNeighborsClassifier was fitted with feature names\n",
      "  warnings.warn(\n"
     ]
    },
    {
     "name": "stdout",
     "output_type": "stream",
     "text": [
      "Below when i is :  5\n",
      "Train score knn:  0.9324560551616976\n",
      "Test score knn:  0.9050208798679227\n",
      "Avg. time is:  0.0\n"
     ]
    },
    {
     "name": "stderr",
     "output_type": "stream",
     "text": [
      "C:\\Users\\Owner\\anaconda3\\Lib\\site-packages\\sklearn\\base.py:464: UserWarning: X does not have valid feature names, but KNeighborsClassifier was fitted with feature names\n",
      "  warnings.warn(\n",
      "C:\\Users\\Owner\\anaconda3\\Lib\\site-packages\\sklearn\\base.py:464: UserWarning: X does not have valid feature names, but KNeighborsClassifier was fitted with feature names\n",
      "  warnings.warn(\n"
     ]
    },
    {
     "name": "stdout",
     "output_type": "stream",
     "text": [
      "Below when i is :  6\n",
      "Train score knn:  0.9259978634553754\n",
      "Test score knn:  0.9070117509954355\n",
      "Avg. time is:  0.0\n"
     ]
    },
    {
     "name": "stderr",
     "output_type": "stream",
     "text": [
      "C:\\Users\\Owner\\anaconda3\\Lib\\site-packages\\sklearn\\base.py:464: UserWarning: X does not have valid feature names, but KNeighborsClassifier was fitted with feature names\n",
      "  warnings.warn(\n",
      "C:\\Users\\Owner\\anaconda3\\Lib\\site-packages\\sklearn\\base.py:464: UserWarning: X does not have valid feature names, but KNeighborsClassifier was fitted with feature names\n",
      "  warnings.warn(\n"
     ]
    },
    {
     "name": "stdout",
     "output_type": "stream",
     "text": [
      "Below when i is :  7\n",
      "Train score knn:  0.9265319996115373\n",
      "Test score knn:  0.907205982324949\n",
      "Avg. time is:  0.0\n"
     ]
    },
    {
     "name": "stderr",
     "output_type": "stream",
     "text": [
      "C:\\Users\\Owner\\anaconda3\\Lib\\site-packages\\sklearn\\base.py:464: UserWarning: X does not have valid feature names, but KNeighborsClassifier was fitted with feature names\n",
      "  warnings.warn(\n",
      "C:\\Users\\Owner\\anaconda3\\Lib\\site-packages\\sklearn\\base.py:464: UserWarning: X does not have valid feature names, but KNeighborsClassifier was fitted with feature names\n",
      "  warnings.warn(\n"
     ]
    },
    {
     "name": "stdout",
     "output_type": "stream",
     "text": [
      "Below when i is :  8\n",
      "Train score knn:  0.9228416043507818\n",
      "Test score knn:  0.9069146353306788\n",
      "Avg. time is:  0.0\n"
     ]
    },
    {
     "name": "stderr",
     "output_type": "stream",
     "text": [
      "C:\\Users\\Owner\\anaconda3\\Lib\\site-packages\\sklearn\\base.py:464: UserWarning: X does not have valid feature names, but KNeighborsClassifier was fitted with feature names\n",
      "  warnings.warn(\n",
      "C:\\Users\\Owner\\anaconda3\\Lib\\site-packages\\sklearn\\base.py:464: UserWarning: X does not have valid feature names, but KNeighborsClassifier was fitted with feature names\n",
      "  warnings.warn(\n"
     ]
    },
    {
     "name": "stdout",
     "output_type": "stream",
     "text": [
      "Below when i is :  9\n",
      "Train score knn:  0.9226959308536467\n",
      "Test score knn:  0.9069631931630572\n",
      "Avg. time is:  0.0\n"
     ]
    },
    {
     "name": "stderr",
     "output_type": "stream",
     "text": [
      "C:\\Users\\Owner\\anaconda3\\Lib\\site-packages\\sklearn\\base.py:464: UserWarning: X does not have valid feature names, but KNeighborsClassifier was fitted with feature names\n",
      "  warnings.warn(\n",
      "C:\\Users\\Owner\\anaconda3\\Lib\\site-packages\\sklearn\\base.py:464: UserWarning: X does not have valid feature names, but KNeighborsClassifier was fitted with feature names\n",
      "  warnings.warn(\n"
     ]
    },
    {
     "name": "stdout",
     "output_type": "stream",
     "text": [
      "Below when i is :  10\n",
      "Train score knn:  0.9217247742060795\n",
      "Test score knn:  0.908274254637273\n",
      "Avg. time is:  0.0\n"
     ]
    },
    {
     "name": "stderr",
     "output_type": "stream",
     "text": [
      "C:\\Users\\Owner\\anaconda3\\Lib\\site-packages\\sklearn\\base.py:464: UserWarning: X does not have valid feature names, but KNeighborsClassifier was fitted with feature names\n",
      "  warnings.warn(\n",
      "C:\\Users\\Owner\\anaconda3\\Lib\\site-packages\\sklearn\\base.py:464: UserWarning: X does not have valid feature names, but KNeighborsClassifier was fitted with feature names\n",
      "  warnings.warn(\n"
     ]
    },
    {
     "name": "stdout",
     "output_type": "stream",
     "text": [
      "Below when i is :  11\n",
      "Train score knn:  0.9205108283966204\n",
      "Test score knn:  0.9097309896086239\n",
      "Avg. time is:  0.0\n"
     ]
    },
    {
     "name": "stderr",
     "output_type": "stream",
     "text": [
      "C:\\Users\\Owner\\anaconda3\\Lib\\site-packages\\sklearn\\base.py:464: UserWarning: X does not have valid feature names, but KNeighborsClassifier was fitted with feature names\n",
      "  warnings.warn(\n",
      "C:\\Users\\Owner\\anaconda3\\Lib\\site-packages\\sklearn\\base.py:464: UserWarning: X does not have valid feature names, but KNeighborsClassifier was fitted with feature names\n",
      "  warnings.warn(\n"
     ]
    },
    {
     "name": "stdout",
     "output_type": "stream",
     "text": [
      "Below when i is :  12\n",
      "Train score knn:  0.9201223657375934\n",
      "Test score knn:  0.9095853161114887\n",
      "Avg. time is:  0.0\n"
     ]
    },
    {
     "name": "stderr",
     "output_type": "stream",
     "text": [
      "C:\\Users\\Owner\\anaconda3\\Lib\\site-packages\\sklearn\\base.py:464: UserWarning: X does not have valid feature names, but KNeighborsClassifier was fitted with feature names\n",
      "  warnings.warn(\n",
      "C:\\Users\\Owner\\anaconda3\\Lib\\site-packages\\sklearn\\base.py:464: UserWarning: X does not have valid feature names, but KNeighborsClassifier was fitted with feature names\n",
      "  warnings.warn(\n"
     ]
    },
    {
     "name": "stdout",
     "output_type": "stream",
     "text": [
      "Below when i is :  13\n",
      "Train score knn:  0.9195396717490532\n",
      "Test score knn:  0.9107021462561912\n",
      "Avg. time is:  0.0\n"
     ]
    },
    {
     "name": "stderr",
     "output_type": "stream",
     "text": [
      "C:\\Users\\Owner\\anaconda3\\Lib\\site-packages\\sklearn\\base.py:464: UserWarning: X does not have valid feature names, but KNeighborsClassifier was fitted with feature names\n",
      "  warnings.warn(\n",
      "C:\\Users\\Owner\\anaconda3\\Lib\\site-packages\\sklearn\\base.py:464: UserWarning: X does not have valid feature names, but KNeighborsClassifier was fitted with feature names\n",
      "  warnings.warn(\n"
     ]
    },
    {
     "name": "stdout",
     "output_type": "stream",
     "text": [
      "Below when i is :  14\n",
      "Train score knn:  0.919393998251918\n",
      "Test score knn:  0.9103136835971642\n",
      "Avg. time is:  0.0\n"
     ]
    },
    {
     "name": "stderr",
     "output_type": "stream",
     "text": [
      "C:\\Users\\Owner\\anaconda3\\Lib\\site-packages\\sklearn\\base.py:464: UserWarning: X does not have valid feature names, but KNeighborsClassifier was fitted with feature names\n",
      "  warnings.warn(\n",
      "C:\\Users\\Owner\\anaconda3\\Lib\\site-packages\\sklearn\\base.py:464: UserWarning: X does not have valid feature names, but KNeighborsClassifier was fitted with feature names\n",
      "  warnings.warn(\n"
     ]
    },
    {
     "name": "stdout",
     "output_type": "stream",
     "text": [
      "Below when i is :  15\n",
      "Train score knn:  0.9189569777605128\n",
      "Test score knn:  0.9099252209381373\n",
      "Avg. time is:  0.015625\n"
     ]
    },
    {
     "name": "stderr",
     "output_type": "stream",
     "text": [
      "C:\\Users\\Owner\\anaconda3\\Lib\\site-packages\\sklearn\\base.py:464: UserWarning: X does not have valid feature names, but KNeighborsClassifier was fitted with feature names\n",
      "  warnings.warn(\n",
      "C:\\Users\\Owner\\anaconda3\\Lib\\site-packages\\sklearn\\base.py:464: UserWarning: X does not have valid feature names, but KNeighborsClassifier was fitted with feature names\n",
      "  warnings.warn(\n"
     ]
    },
    {
     "name": "stdout",
     "output_type": "stream",
     "text": [
      "Below when i is :  16\n",
      "Train score knn:  0.9180829367777023\n",
      "Test score knn:  0.9099737787705157\n",
      "Avg. time is:  0.015625\n"
     ]
    },
    {
     "name": "stderr",
     "output_type": "stream",
     "text": [
      "C:\\Users\\Owner\\anaconda3\\Lib\\site-packages\\sklearn\\base.py:464: UserWarning: X does not have valid feature names, but KNeighborsClassifier was fitted with feature names\n",
      "  warnings.warn(\n",
      "C:\\Users\\Owner\\anaconda3\\Lib\\site-packages\\sklearn\\base.py:464: UserWarning: X does not have valid feature names, but KNeighborsClassifier was fitted with feature names\n",
      "  warnings.warn(\n"
     ]
    },
    {
     "name": "stdout",
     "output_type": "stream",
     "text": [
      "Below when i is :  17\n",
      "Train score knn:  0.9183742837719724\n",
      "Test score knn:  0.9107992619209478\n",
      "Avg. time is:  0.0\n"
     ]
    },
    {
     "name": "stderr",
     "output_type": "stream",
     "text": [
      "C:\\Users\\Owner\\anaconda3\\Lib\\site-packages\\sklearn\\base.py:464: UserWarning: X does not have valid feature names, but KNeighborsClassifier was fitted with feature names\n",
      "  warnings.warn(\n",
      "C:\\Users\\Owner\\anaconda3\\Lib\\site-packages\\sklearn\\base.py:464: UserWarning: X does not have valid feature names, but KNeighborsClassifier was fitted with feature names\n",
      "  warnings.warn(\n"
     ]
    },
    {
     "name": "stdout",
     "output_type": "stream",
     "text": [
      "Below when i is :  18\n",
      "Train score knn:  0.9183742837719724\n",
      "Test score knn:  0.9099252209381373\n",
      "Avg. time is:  0.0\n"
     ]
    },
    {
     "name": "stderr",
     "output_type": "stream",
     "text": [
      "C:\\Users\\Owner\\anaconda3\\Lib\\site-packages\\sklearn\\base.py:464: UserWarning: X does not have valid feature names, but KNeighborsClassifier was fitted with feature names\n",
      "  warnings.warn(\n",
      "C:\\Users\\Owner\\anaconda3\\Lib\\site-packages\\sklearn\\base.py:464: UserWarning: X does not have valid feature names, but KNeighborsClassifier was fitted with feature names\n",
      "  warnings.warn(\n"
     ]
    },
    {
     "name": "stdout",
     "output_type": "stream",
     "text": [
      "Below when i is :  19\n",
      "Train score knn:  0.9187627464309993\n",
      "Test score knn:  0.9110420510828396\n",
      "Avg. time is:  0.0\n"
     ]
    },
    {
     "name": "stderr",
     "output_type": "stream",
     "text": [
      "C:\\Users\\Owner\\anaconda3\\Lib\\site-packages\\sklearn\\base.py:464: UserWarning: X does not have valid feature names, but KNeighborsClassifier was fitted with feature names\n",
      "  warnings.warn(\n",
      "C:\\Users\\Owner\\anaconda3\\Lib\\site-packages\\sklearn\\base.py:464: UserWarning: X does not have valid feature names, but KNeighborsClassifier was fitted with feature names\n",
      "  warnings.warn(\n"
     ]
    },
    {
     "name": "stdout",
     "output_type": "stream",
     "text": [
      "Below when i is :  20\n",
      "Train score knn:  0.9173545692920269\n",
      "Test score knn:  0.9105079149266777\n",
      "Avg. time is:  0.0\n"
     ]
    }
   ],
   "source": [
    " for i in range(1,21):\n",
    "        start = process_time()\n",
    "        neigh = KNeighborsClassifier(n_neighbors = i).fit(X_train,y_train)\n",
    "        end = process_time()\n",
    "        yhat_train=neigh.predict(X_train.values)\n",
    "        yhat_test=neigh.predict(X_test.values)\n",
    "        mean_acc_train = metrics.accuracy_score(y_train, yhat_train)\n",
    "        mean_acc_test = metrics.accuracy_score(y_test, yhat_test) \n",
    "        print(\"Below when i is : \", i)\n",
    "        print(\"Train score knn: \", mean_acc_train)\n",
    "        print(\"Test score knn: \", mean_acc_test)\n",
    "        print(\"Avg. time is: \", end - start)"
   ]
  },
  {
   "cell_type": "code",
   "execution_count": 8,
   "id": "f473863c",
   "metadata": {},
   "outputs": [
    {
     "name": "stdout",
     "output_type": "stream",
     "text": [
      "1.0\n",
      "0.8913761289696028\n",
      "0.09375\n"
     ]
    }
   ],
   "source": [
    "start = process_time()\n",
    "tree_depth = DecisionTreeClassifier(max_depth=None).fit(X_train, y_train)\n",
    "end = process_time()\n",
    "yhat_train = tree_depth.predict(X_train)\n",
    "yhat_test = tree_depth.predict(X_test)\n",
    "ac_train_tree = accuracy_score(y_train, yhat_train)\n",
    "ac_test_tree = accuracy_score(y_test, yhat_test)\n",
    "print(ac_train_tree)\n",
    "print(ac_test_tree)\n",
    "print(end-start)"
   ]
  },
  {
   "cell_type": "code",
   "execution_count": 23,
   "id": "ac1552c4",
   "metadata": {},
   "outputs": [
    {
     "name": "stdout",
     "output_type": "stream",
     "text": [
      "when value of i is:  1\n",
      "Decision Tree training score:  0.8868602505584151\n",
      "Decision Tree testing score:  0.8878314072059823\n",
      "Decision Tree processing time:  0.015625\n",
      "when value of i is:  2\n",
      "Decision Tree training score:  0.9037583762260852\n",
      "Decision Tree testing score:  0.9022045255899777\n",
      "Decision Tree processing time:  0.078125\n",
      "when value of i is:  3\n",
      "Decision Tree training score:  0.9092454112848403\n",
      "Decision Tree testing score:  0.9070117509954355\n",
      "Decision Tree processing time:  0.046875\n",
      "when value of i is:  4\n",
      "Decision Tree training score:  0.9155579294940274\n",
      "Decision Tree testing score:  0.9116733029037584\n",
      "Decision Tree processing time:  0.0\n",
      "when value of i is:  5\n",
      "Decision Tree training score:  0.9193454404195397\n",
      "Decision Tree testing score:  0.9124502282218122\n",
      "Decision Tree processing time:  0.0\n",
      "when value of i is:  6\n",
      "Decision Tree training score:  0.9218704477032146\n",
      "Decision Tree testing score:  0.9112362824123531\n",
      "Decision Tree processing time:  0.0625\n",
      "when value of i is:  7\n",
      "Decision Tree training score:  0.926483441779159\n",
      "Decision Tree testing score:  0.9097795474410022\n",
      "Decision Tree processing time:  0.125\n",
      "when value of i is:  8\n",
      "Decision Tree training score:  0.931436340681752\n",
      "Decision Tree testing score:  0.9090511799553268\n",
      "Decision Tree processing time:  0.15625\n",
      "when value of i is:  9\n",
      "Decision Tree training score:  0.9379430902204525\n",
      "Decision Tree testing score:  0.907740118481111\n",
      "Decision Tree processing time:  0.109375\n",
      "when value of i is:  10\n",
      "Decision Tree training score:  0.9450810915800719\n",
      "Decision Tree testing score:  0.9039040497232204\n",
      "Decision Tree processing time:  0.125\n",
      "when value of i is:  11\n",
      "Decision Tree training score:  0.953675827911042\n",
      "Decision Tree testing score:  0.9027386617461397\n",
      "Decision Tree processing time:  0.09375\n",
      "when value of i is:  12\n",
      "Decision Tree training score:  0.962367679906769\n",
      "Decision Tree testing score:  0.9007477906186268\n",
      "Decision Tree processing time:  0.15625\n",
      "when value of i is:  13\n",
      "Decision Tree training score:  0.9707196270758474\n",
      "Decision Tree testing score:  0.9000194231329514\n",
      "Decision Tree processing time:  0.046875\n",
      "when value of i is:  14\n",
      "Decision Tree training score:  0.9785374380887637\n",
      "Decision Tree testing score:  0.8951150820627367\n",
      "Decision Tree processing time:  0.078125\n",
      "when value of i is:  15\n",
      "Decision Tree training score:  0.9853840924541128\n",
      "Decision Tree testing score:  0.895163639895115\n",
      "Decision Tree processing time:  0.09375\n",
      "when value of i is:  16\n",
      "Decision Tree training score:  0.990628338350976\n",
      "Decision Tree testing score:  0.8927843061085753\n",
      "Decision Tree processing time:  0.09375\n",
      "when value of i is:  17\n",
      "Decision Tree training score:  0.9938331552879479\n",
      "Decision Tree testing score:  0.8918617072933864\n",
      "Decision Tree processing time:  0.140625\n",
      "when value of i is:  18\n",
      "Decision Tree training score:  0.9966980673982714\n",
      "Decision Tree testing score:  0.8896766048363601\n",
      "Decision Tree processing time:  0.21875\n",
      "when value of i is:  19\n",
      "Decision Tree training score:  0.9983004758667573\n",
      "Decision Tree testing score:  0.8901621831601437\n",
      "Decision Tree processing time:  0.296875\n",
      "when value of i is:  20\n",
      "Decision Tree training score:  0.998931727687676\n",
      "Decision Tree testing score:  0.8907448771486841\n",
      "Decision Tree processing time:  0.171875\n"
     ]
    }
   ],
   "source": [
    "for i in range(1,21):\n",
    "        start = process_time()\n",
    "        tree_depth = DecisionTreeClassifier(max_depth=i).fit(X_train, y_train) \n",
    "        end = process_time() \n",
    "        yhat_train = tree_depth.predict(X_train) \n",
    "        yhat_test = tree_depth.predict(X_test) \n",
    "        ac_train_tree = accuracy_score(y_train, yhat_train) \n",
    "        ac_test_tree = accuracy_score(y_test, yhat_test) \n",
    "        print(\"when value of i is: \", i) \n",
    "        print(\"Decision Tree training score: \", ac_train_tree) \n",
    "        print(\"Decision Tree testing score: \", ac_test_tree) \n",
    "        print(\"Decision Tree processing time: \", end-start)"
   ]
  },
  {
   "cell_type": "code",
   "execution_count": 13,
   "id": "7cb373a8",
   "metadata": {},
   "outputs": [
    {
     "name": "stdout",
     "output_type": "stream",
     "text": [
      "0.9074002136544624\n",
      "0.9094882004467321\n",
      "0.3125\n"
     ]
    },
    {
     "name": "stderr",
     "output_type": "stream",
     "text": [
      "C:\\Users\\Owner\\anaconda3\\Lib\\site-packages\\sklearn\\linear_model\\_logistic.py:460: ConvergenceWarning: lbfgs failed to converge (status=1):\n",
      "STOP: TOTAL NO. of ITERATIONS REACHED LIMIT.\n",
      "\n",
      "Increase the number of iterations (max_iter) or scale the data as shown in:\n",
      "    https://scikit-learn.org/stable/modules/preprocessing.html\n",
      "Please also refer to the documentation for alternative solver options:\n",
      "    https://scikit-learn.org/stable/modules/linear_model.html#logistic-regression\n",
      "  n_iter_i = _check_optimize_result(\n"
     ]
    }
   ],
   "source": [
    "start = process_time()\n",
    "LR = LogisticRegression().fit(X_train,y_train)\n",
    "end = process_time()\n",
    "yhat_train = LR.predict(X_train)\n",
    "yhat_test = LR.predict(X_test)\n",
    "ac_train_lr = accuracy_score(y_train, yhat_train)\n",
    "ac_test_lr = accuracy_score(y_test, yhat_test)\n",
    "lr_process_time = end - start\n",
    "print(ac_train_lr)\n",
    "print(ac_test_lr)\n",
    "print(end-start)"
   ]
  },
  {
   "cell_type": "code",
   "execution_count": 18,
   "id": "a54a9154",
   "metadata": {},
   "outputs": [
    {
     "name": "stdout",
     "output_type": "stream",
     "text": [
      "0.8985141303292221\n",
      "0.8969117218607361\n",
      "7.34375\n"
     ]
    }
   ],
   "source": [
    "clf = SVC(kernel='rbf')\n",
    "start = process_time()\n",
    "clf.fit(X_train, y_train)\n",
    "end = process_time()\n",
    "yhat_train = clf.predict(X_train)\n",
    "yhat_test = clf.predict(X_test)\n",
    "ac_train_svc = accuracy_score(y_train, yhat_train)\n",
    "ac_test_svc = accuracy_score(y_test, yhat_test)\n",
    "svc_process_time = end - start\n",
    "print(ac_train_svc)\n",
    "print(ac_test_svc)\n",
    "print(end-start)"
   ]
  },
  {
   "cell_type": "code",
   "execution_count": 17,
   "id": "9be3dc06",
   "metadata": {},
   "outputs": [
    {
     "name": "stdout",
     "output_type": "stream",
     "text": [
      "0.8983198989997087\n",
      "0.9018160629309507\n",
      "19.75\n"
     ]
    }
   ],
   "source": [
    "clf = SVC(kernel='linear')\n",
    "start = process_time()\n",
    "clf.fit(X_train, y_train)\n",
    "end = process_time()\n",
    "yhat_train = clf.predict(X_train)\n",
    "yhat_test = clf.predict(X_test)\n",
    "ac_train_svc = accuracy_score(y_train, yhat_train)\n",
    "ac_test_svc = accuracy_score(y_test, yhat_test)\n",
    "svc_process_time = end-start\n",
    "print(ac_train_svc)\n",
    "print(ac_test_svc)\n",
    "print(end-start)"
   ]
  },
  {
   "cell_type": "code",
   "execution_count": 15,
   "id": "50be5f14",
   "metadata": {},
   "outputs": [
    {
     "name": "stderr",
     "output_type": "stream",
     "text": [
      "C:\\Users\\Owner\\anaconda3\\Lib\\site-packages\\sklearn\\base.py:464: UserWarning: X does not have valid feature names, but KNeighborsClassifier was fitted with feature names\n",
      "  warnings.warn(\n",
      "C:\\Users\\Owner\\anaconda3\\Lib\\site-packages\\sklearn\\base.py:464: UserWarning: X does not have valid feature names, but KNeighborsClassifier was fitted with feature names\n",
      "  warnings.warn(\n"
     ]
    }
   ],
   "source": [
    "#knn for degree 19:\n",
    "start = process_time()\n",
    "neigh = KNeighborsClassifier(n_neighbors = 19).fit(X_train,y_train)\n",
    "end = process_time()\n",
    "yhat_train=neigh.predict(X_train.values)\n",
    "yhat_test=neigh.predict(X_test.values)\n",
    "mean_acc_train = metrics.accuracy_score(y_train, yhat_train)\n",
    "mean_acc_test = metrics.accuracy_score(y_test, yhat_test)\n",
    "knn_process_time = (end-start)\n"
   ]
  },
  {
   "cell_type": "code",
   "execution_count": 21,
   "id": "0c844517",
   "metadata": {},
   "outputs": [],
   "source": [
    "start = process_time()\n",
    "tree_depth = DecisionTreeClassifier(max_depth=5).fit(X_train, y_train) \n",
    "end = process_time() \n",
    "yhat_train = tree_depth.predict(X_train) \n",
    "yhat_test = tree_depth.predict(X_test) \n",
    "ac_train_tree = accuracy_score(y_train, yhat_train) \n",
    "ac_test_tree = accuracy_score(y_test, yhat_test) \n",
    "dtree_process_time = end-start"
   ]
  },
  {
   "cell_type": "code",
   "execution_count": 22,
   "id": "577516d9",
   "metadata": {},
   "outputs": [
    {
     "name": "stdout",
     "output_type": "stream",
     "text": [
      "                     train score  test score  average fit time\n",
      "model                                                         \n",
      "KNN                     0.918763    0.911042            0.0000\n",
      "Logistic Regression     0.907400    0.909488            0.3125\n",
      "Decision Tree           0.919345    0.912450            0.0625\n",
      "SVC                     0.898320    0.901816           19.7500\n"
     ]
    }
   ],
   "source": [
    "#I have put best testing score model out of all knn, all depth of decision tree, both types of svc\n",
    "result = {'model': ['KNN', 'Logistic Regression', 'Decision Tree', 'SVC'],\n",
    "           'train score': [mean_acc_train,ac_train_lr,ac_train_tree, ac_train_svc],\n",
    "           'test score': [mean_acc_test,ac_test_lr,ac_test_tree, ac_test_svc],\n",
    "           'average fit time': [knn_process_time, lr_process_time, dtree_process_time, svc_process_time]}\n",
    "results_df = pd.DataFrame(result).set_index('model')\n",
    "print(results_df)"
   ]
  }
 ],
 "metadata": {
  "kernelspec": {
   "display_name": "Python 3 (ipykernel)",
   "language": "python",
   "name": "python3"
  },
  "language_info": {
   "codemirror_mode": {
    "name": "ipython",
    "version": 3
   },
   "file_extension": ".py",
   "mimetype": "text/x-python",
   "name": "python",
   "nbconvert_exporter": "python",
   "pygments_lexer": "ipython3",
   "version": "3.11.5"
  }
 },
 "nbformat": 4,
 "nbformat_minor": 5
}
